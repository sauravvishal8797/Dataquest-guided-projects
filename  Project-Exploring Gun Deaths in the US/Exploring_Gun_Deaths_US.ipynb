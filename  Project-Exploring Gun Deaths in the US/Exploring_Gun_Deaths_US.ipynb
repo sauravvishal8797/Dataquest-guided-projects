{
 "cells": [
  {
   "cell_type": "code",
   "execution_count": 2,
   "metadata": {
    "collapsed": true
   },
   "outputs": [],
   "source": [
    "#Reading the dataset in as a list.\n",
    "import csv\n",
    "f = open(\"guns.csv\")\n",
    "readerObject = csv.reader(f)\n",
    "data = list(readerObject)"
   ]
  },
  {
   "cell_type": "code",
   "execution_count": 5,
   "metadata": {
    "collapsed": false
   },
   "outputs": [
    {
     "name": "stdout",
     "output_type": "stream",
     "text": [
      "['', 'year', 'month', 'intent', 'police', 'sex', 'age', 'race', 'hispanic', 'place', 'education']\n",
      "['1', '2012', '01', 'Suicide', '0', 'M', '34', 'Asian/Pacific Islander', '100', 'Home', '4']\n",
      "['2', '2012', '01', 'Suicide', '0', 'F', '21', 'White', '100', 'Street', '3']\n",
      "['3', '2012', '01', 'Suicide', '0', 'M', '60', 'White', '100', 'Other specified', '4']\n",
      "['4', '2012', '02', 'Suicide', '0', 'M', '64', 'White', '100', 'Home', '4']\n"
     ]
    }
   ],
   "source": [
    "#Displaying the first 5 rows of the dataset to verify.\n",
    "#The first row contains the coloum headers.\n",
    "for item in data[:5]:\n",
    "    print(item)"
   ]
  },
  {
   "cell_type": "code",
   "execution_count": 6,
   "metadata": {
    "collapsed": false
   },
   "outputs": [
    {
     "name": "stdout",
     "output_type": "stream",
     "text": [
      "['1', '2012', '01', 'Suicide', '0', 'M', '34', 'Asian/Pacific Islander', '100', 'Home', '4']\n",
      "------------------------------------------------------\n",
      "['1', '2012', '01', 'Suicide', '0', 'M', '34', 'Asian/Pacific Islander', '100', 'Home', '4']\n",
      "['2', '2012', '01', 'Suicide', '0', 'F', '21', 'White', '100', 'Street', '3']\n",
      "['3', '2012', '01', 'Suicide', '0', 'M', '60', 'White', '100', 'Other specified', '4']\n",
      "['4', '2012', '02', 'Suicide', '0', 'M', '64', 'White', '100', 'Home', '4']\n",
      "['5', '2012', '02', 'Suicide', '0', 'M', '31', 'White', '100', 'Other specified', '2']\n"
     ]
    }
   ],
   "source": [
    "#Extracting the headers and displaying them separately.\n",
    "data = data[1:]\n",
    "print(data[0])\n",
    "print(\"------------------------------------------------------\")\n",
    "\n",
    "#Displaying the first 5 rows to verify that the headers have been removed \n",
    "#correctly.\n",
    "for item in data[:5]:\n",
    "    print(item)\n",
    "\n"
   ]
  },
  {
   "cell_type": "code",
   "execution_count": 7,
   "metadata": {
    "collapsed": false
   },
   "outputs": [
    {
     "name": "stdout",
     "output_type": "stream",
     "text": [
      "{'2014': 33599, '2013': 33636, '2012': 33563}\n"
     ]
    }
   ],
   "source": [
    "#Extracting the years of occurence of gun deaths.\n",
    "years = [year[1] for year in data]\n",
    "\n",
    "#To display how many gun deaths occured in each year\n",
    "year_counts = {}\n",
    "for year in years:\n",
    "    if year not in year_counts:\n",
    "        year_counts[year] = 1\n",
    "    else:\n",
    "        year_counts[year] += 1\n",
    "print(year_counts)"
   ]
  },
  {
   "cell_type": "code",
   "execution_count": 16,
   "metadata": {
    "collapsed": false
   },
   "outputs": [
    {
     "name": "stdout",
     "output_type": "stream",
     "text": [
      "2012-01-01 00:00:00\n",
      "2012-02-01 00:00:00\n",
      "2012-02-01 00:00:00\n",
      "2012-02-01 00:00:00\n",
      "2012-02-01 00:00:00\n",
      "{datetime.datetime(2014, 3, 1, 0, 0): 2684, datetime.datetime(2012, 4, 1, 0, 0): 2795, datetime.datetime(2014, 12, 1, 0, 0): 2857, datetime.datetime(2013, 10, 1, 0, 0): 2808, datetime.datetime(2013, 1, 1, 0, 0): 2864, datetime.datetime(2012, 6, 1, 0, 0): 2826, datetime.datetime(2012, 5, 1, 0, 0): 2999, datetime.datetime(2012, 1, 1, 0, 0): 2756, datetime.datetime(2014, 6, 1, 0, 0): 2931, datetime.datetime(2012, 8, 1, 0, 0): 2954, datetime.datetime(2014, 9, 1, 0, 0): 2914, datetime.datetime(2012, 7, 1, 0, 0): 3026, datetime.datetime(2013, 2, 1, 0, 0): 2375, datetime.datetime(2013, 4, 1, 0, 0): 2798, datetime.datetime(2013, 6, 1, 0, 0): 2920, datetime.datetime(2013, 3, 1, 0, 0): 2862, datetime.datetime(2014, 10, 1, 0, 0): 2865, datetime.datetime(2013, 8, 1, 0, 0): 2859, datetime.datetime(2012, 12, 1, 0, 0): 2791, datetime.datetime(2014, 2, 1, 0, 0): 2361, datetime.datetime(2013, 11, 1, 0, 0): 2758, datetime.datetime(2012, 9, 1, 0, 0): 2852, datetime.datetime(2014, 8, 1, 0, 0): 2970, datetime.datetime(2013, 7, 1, 0, 0): 3079, datetime.datetime(2012, 10, 1, 0, 0): 2733, datetime.datetime(2014, 5, 1, 0, 0): 2864, datetime.datetime(2013, 9, 1, 0, 0): 2742, datetime.datetime(2012, 2, 1, 0, 0): 2357, datetime.datetime(2012, 11, 1, 0, 0): 2729, datetime.datetime(2013, 12, 1, 0, 0): 2765, datetime.datetime(2013, 5, 1, 0, 0): 2806, datetime.datetime(2014, 4, 1, 0, 0): 2862, datetime.datetime(2014, 11, 1, 0, 0): 2756, datetime.datetime(2014, 7, 1, 0, 0): 2884, datetime.datetime(2012, 3, 1, 0, 0): 2743, datetime.datetime(2014, 1, 1, 0, 0): 2651}\n"
     ]
    }
   ],
   "source": [
    "#Creating a datetime object for each row, days are not specified in the data so default value assigned will be 1. \n",
    "import datetime\n",
    "dates = []\n",
    "for item in data:\n",
    "    dates.append(datetime.datetime(year = int(item[1]), \n",
    "    month = int(item[2]), day = 1))\n",
    "for date in dates[:5]:\n",
    "    print(date)\n",
    "    \n",
    "#Counting how many deaths occured on each unique date\n",
    "date_counts = {}\n",
    "for date in dates:\n",
    "    if date not in date_counts:\n",
    "        date_counts[date] = 1;\n",
    "    else:\n",
    "        date_counts[date] += 1\n",
    "print(date_counts)"
   ]
  },
  {
   "cell_type": "code",
   "execution_count": 8,
   "metadata": {
    "collapsed": false
   },
   "outputs": [
    {
     "name": "stdout",
     "output_type": "stream",
     "text": [
      "{'M': 86349, 'F': 14449}\n"
     ]
    }
   ],
   "source": [
    "#Counting no of male and female deaths\n",
    "sex_counts = {}\n",
    "for item in data:\n",
    "    if item[5] not in sex_counts:\n",
    "        sex_counts[item[5]] = 1\n",
    "    else:\n",
    "        sex_counts[item[5]] += 1\n",
    "print(sex_counts)"
   ]
  },
  {
   "cell_type": "code",
   "execution_count": 9,
   "metadata": {
    "collapsed": false
   },
   "outputs": [
    {
     "name": "stdout",
     "output_type": "stream",
     "text": [
      "{'Asian/Pacific Islander': 1326, 'White': 66237, 'Hispanic': 9022, 'Native American/Native Alaskan': 917, 'Black': 23296}\n"
     ]
    }
   ],
   "source": [
    "#Displaying the rate of gun deaths varying by race\n",
    "#The data provided consists of 5 races namely 'Hispanic', 'Asian/Pacific Islander', 'NativeAmerican/NativeAlaskan', 'Black', 'White'.\n",
    "race_counts = {}\n",
    "for item in data:\n",
    "    if item[7] not in race_counts:\n",
    "        race_counts[item[7]] = 1\n",
    "    else:\n",
    "        race_counts[item[7]] += 1\n",
    "print(race_counts)"
   ]
  },
  {
   "cell_type": "markdown",
   "metadata": {},
   "source": [
    "Our analysis till now only gives us the total no of gun deaths for each race in the US. In order to meaningfully compare those numbers, we need to have the knowledge of proportion of each race in the US. Luckily, we can import some census data from the file \"census.csv\" to do the required."
   ]
  },
  {
   "cell_type": "code",
   "execution_count": 10,
   "metadata": {
    "collapsed": false
   },
   "outputs": [
    {
     "name": "stdout",
     "output_type": "stream",
     "text": [
      "[['Id', 'Year', 'Id', 'Sex', 'Id', 'Hispanic Origin', 'Id', 'Id2', 'Geography', 'Total', 'Race Alone - White', 'Race Alone - Hispanic', 'Race Alone - Black or African American', 'Race Alone - American Indian and Alaska Native', 'Race Alone - Asian', 'Race Alone - Native Hawaiian and Other Pacific Islander', 'Two or More Races'], ['cen42010', 'April 1, 2010 Census', 'totsex', 'Both Sexes', 'tothisp', 'Total', '0100000US', '', 'United States', '308745538', '197318956', '44618105', '40250635', '3739506', '15159516', '674625', '6984195']]\n"
     ]
    }
   ],
   "source": [
    "#Reading and displaying the file census.csv.\n",
    "f = open(\"census.csv\")\n",
    "reader = csv.reader(f)\n",
    "census_data = list(reader)\n",
    "print(census_data)"
   ]
  },
  {
   "cell_type": "code",
   "execution_count": 11,
   "metadata": {
    "collapsed": false
   },
   "outputs": [
    {
     "name": "stdout",
     "output_type": "stream",
     "text": [
      "{'Asian/Pacific Islander': 17.313372033811998, 'White': 33.56849303419181, 'Hispanic': 20.220491210910907, 'Native American/Native Alaskan': 6.049005786200562, 'Black': 52.211988832784364}\n"
     ]
    }
   ],
   "source": [
    "#Creating a dictionary mapping that maps each key from race_counts to the total population of the race from census.\n",
    "mapping = {}\n",
    "mapping['Asian/Pacific Islander'] = 674625+6984195\n",
    "mapping['Black'] = 44618105\n",
    "mapping['Native American/Native Alaskan'] = 15159516\n",
    "mapping['White'] = 197318956\n",
    "mapping['Hispanic'] = 44618105\n",
    "\n",
    "#Calculating and storing the gun death rate per 100000, for each race.\n",
    "race_per_hundredk = {}\n",
    "for race in race_counts:\n",
    "    if race in mapping:\n",
    "        race_per_hundredk[race] = race_counts[race]/mapping[race]*100000\n",
    "print(race_per_hundredk)"
   ]
  },
  {
   "cell_type": "markdown",
   "metadata": {},
   "source": [
    "Here we can filter our results to get stats about gun realted murder rates per 100000 people for each race. All we need to do is modify the race_counts dictionary to only include rows with intents as 'Homicide' for each racial category."
   ]
  },
  {
   "cell_type": "code",
   "execution_count": 12,
   "metadata": {
    "collapsed": false
   },
   "outputs": [
    {
     "name": "stdout",
     "output_type": "stream",
     "text": [
      "{'White': 4.6356417981453335, 'Asian/Pacific Islander': 7.298774484842313, 'Hispanic': 12.627161104219914, 'Native American/Native Alaskan': 2.1504644343526533, 'Black': 43.7266441503959}\n"
     ]
    }
   ],
   "source": [
    "#Extracting 'intent' and 'race' coloumn data\n",
    "intents = [item[3] for item in data]\n",
    "races = [item[7] for item in data]\n",
    "\n",
    "#Calculating the no gun-related murders for each race\n",
    "homicide_race_counts = {}\n",
    "for i, race in enumerate(races):\n",
    "    if intents[i] == 'Homicide':\n",
    "        if race not in homicide_race_counts:\n",
    "            homicide_race_counts[race] = 1\n",
    "        else:\n",
    "            homicide_race_counts[race] += 1\n",
    "            \n",
    "#Calculating the gun-related murder rate per 100000 people in each racial category\n",
    "homecide_rate_counts_per_hundredk = {}\n",
    "for race in homicide_race_counts:\n",
    "    if race in mapping:\n",
    "        homecide_rate_counts_per_hundredk[race] = homicide_race_counts[race]/mapping[race]*100000\n",
    "print(homecide_rate_counts_per_hundredk)\n",
    "            "
   ]
  },
  {
   "cell_type": "code",
   "execution_count": 13,
   "metadata": {
    "collapsed": false,
    "scrolled": true
   },
   "outputs": [
    {
     "name": "stdout",
     "output_type": "stream",
     "text": [
      "{'M': 8, 'F': 3}\n"
     ]
    }
   ],
   "source": [
    "gender = [item[5] for item in data]\n",
    "homicide_genders = {}\n",
    "\n",
    "for i, value in enumerate(intents):\n",
    "    if value == 'Homicide' and gender[i] in homicide_genders:\n",
    "        homicide_genders[gender[i]] += 1\n",
    "        \n",
    "    else:\n",
    "        homicide_genders[gender[i]] = 1\n",
    "print(homicide_genders)"
   ]
  },
  {
   "cell_type": "code",
   "execution_count": 14,
   "metadata": {
    "collapsed": false
   },
   "outputs": [
    {
     "name": "stdout",
     "output_type": "stream",
     "text": [
      "{'06': 3130, '03': 2780, '02': 2178, '04': 2845, '12': 3191, '10': 2968, '05': 2976, '11': 2919, '09': 2966, '08': 3125, '01': 2829, '07': 3269}\n"
     ]
    }
   ],
   "source": [
    "#Extracting the month of occurence of guns deaths.\n",
    "months = [item[2] for item in data]\n",
    "intents = [item[3] for item in data]\n",
    "months_homicide = {}\n",
    "\n",
    "#To link homicides to their month of occurence.\n",
    "for i, value in enumerate(intents):\n",
    "    if value == 'Homicide':\n",
    "        if months[i] not in months_homicide:\n",
    "            months_homicide[months[i]] = 1\n",
    "        else:\n",
    "            months_homicide[months[i]] += 1\n",
    "print(months_homicide)\n"
   ]
  },
  {
   "cell_type": "markdown",
   "metadata": {},
   "source": [
    "So here we have the statstics to relate homicides to month of occurence. According to the data obtained, highest no of homicides have occured in the months of July during the given period. Also, the months June, December and August have more or less similar rate of homicides."
   ]
  },
  {
   "cell_type": "markdown",
   "metadata": {},
   "source": [
    "Now we'd take a look at the accidental gun deaths to have happened during the spcified period."
   ]
  },
  {
   "cell_type": "code",
   "execution_count": 15,
   "metadata": {
    "collapsed": false
   },
   "outputs": [
    {
     "name": "stdout",
     "output_type": "stream",
     "text": [
      "{'Undetermined': 807, 'Suicide': 63175, 'NA': 1, 'Homicide': 35176, 'Accidental': 1639}\n"
     ]
    }
   ],
   "source": [
    "#Extracting no of gun deaths based on each type of intent.\n",
    "intent_deaths = {}\n",
    "for intent in intents:\n",
    "    if intent not in intent_deaths:\n",
    "        intent_deaths[intent] = 1\n",
    "    else:\n",
    "        intent_deaths[intent] += 1\n",
    "print(intent_deaths)"
   ]
  },
  {
   "cell_type": "markdown",
   "metadata": {},
   "source": [
    "The death rate per intent data shows that maximum no of gun deaths have occurred in the form of suicides."
   ]
  },
  {
   "cell_type": "markdown",
   "metadata": {},
   "source": [
    "Now we'd try to explore sucidal rates among different races."
   ]
  },
  {
   "cell_type": "code",
   "execution_count": 16,
   "metadata": {
    "collapsed": false
   },
   "outputs": [
    {
     "name": "stdout",
     "output_type": "stream",
     "text": [
      "{'Asian/Pacific Islander': 745, 'White': 55372, 'Hispanic': 3171, 'Native American/Native Alaskan': 555, 'Black': 3332}\n"
     ]
    }
   ],
   "source": [
    "#Extracting out race for all the rows\n",
    "races = [item[7] for item in data]\n",
    "\n",
    "suicide_rate_per_race = {}\n",
    "for i, value in enumerate(intents):\n",
    "    if value == 'Suicide':\n",
    "        if races[i] not in suicide_rate_per_race:\n",
    "            suicide_rate_per_race[races[i]] = 1\n",
    "        else:\n",
    "            suicide_rate_per_race[races[i]] += 1\n",
    "print(suicide_rate_per_race)\n",
    "        "
   ]
  },
  {
   "cell_type": "markdown",
   "metadata": {},
   "source": [
    "White race thus tops the chart for no of suicidal gun deaths. Now as majority of population in the US belongs to the White race, the suicidal rates would be comparable only if we take out the suicidal death rate per 100000 individuals for each race."
   ]
  },
  {
   "cell_type": "code",
   "execution_count": 19,
   "metadata": {
    "collapsed": false
   },
   "outputs": [
    {
     "name": "stdout",
     "output_type": "stream",
     "text": [
      "{'Asian/Pacific Islander': 9.727347032571597, 'White': 28.06217969245692, 'Hispanic': 7.106980451097149, 'Native American/Native Alaskan': 3.6610667517353455, 'Black': 7.467820518150647}\n"
     ]
    }
   ],
   "source": [
    "#Calculating suicidal gun death rates per 100000 individuals.\n",
    "suicide_race_per_hundredk = {}\n",
    "for race in suicide_rate_per_race:\n",
    "    if race in mapping:\n",
    "        suicide_race_per_hundredk[race] = suicide_rate_per_race[race]/mapping[race]*100000\n",
    "print(suicide_race_per_hundredk)"
   ]
  },
  {
   "cell_type": "code",
   "execution_count": null,
   "metadata": {
    "collapsed": true
   },
   "outputs": [],
   "source": []
  }
 ],
 "metadata": {
  "kernelspec": {
   "display_name": "Python 3",
   "language": "python",
   "name": "python3"
  },
  "language_info": {
   "codemirror_mode": {
    "name": "ipython",
    "version": 3
   },
   "file_extension": ".py",
   "mimetype": "text/x-python",
   "name": "python",
   "nbconvert_exporter": "python",
   "pygments_lexer": "ipython3",
   "version": "3.4.3"
  }
 },
 "nbformat": 4,
 "nbformat_minor": 0
}
