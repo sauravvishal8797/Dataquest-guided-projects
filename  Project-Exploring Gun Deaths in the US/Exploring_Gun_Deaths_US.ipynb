{
 "cells": [
  {
   "cell_type": "code",
   "execution_count": 1,
   "metadata": {
    "collapsed": true
   },
   "outputs": [],
   "source": [
    "#Reading the dataset in as a list.\n",
    "import csv\n",
    "f = open(\"guns.csv\")\n",
    "readerObject = csv.reader(f)\n",
    "data = list(readerObject)"
   ]
  },
  {
   "cell_type": "code",
   "execution_count": 2,
   "metadata": {
    "collapsed": false
   },
   "outputs": [
    {
     "name": "stdout",
     "output_type": "stream",
     "text": [
      "['', 'year', 'month', 'intent', 'police', 'sex', 'age', 'race', 'hispanic', 'place', 'education']\n",
      "['1', '2012', '01', 'Suicide', '0', 'M', '34', 'Asian/Pacific Islander', '100', 'Home', '4']\n",
      "['2', '2012', '01', 'Suicide', '0', 'F', '21', 'White', '100', 'Street', '3']\n",
      "['3', '2012', '01', 'Suicide', '0', 'M', '60', 'White', '100', 'Other specified', '4']\n",
      "['4', '2012', '02', 'Suicide', '0', 'M', '64', 'White', '100', 'Home', '4']\n"
     ]
    }
   ],
   "source": [
    "#Displaying the first 5 rows of the dataset to verify.\n",
    "#The first row contains the coloum headers.\n",
    "for item in data[:5]:\n",
    "    print(item)"
   ]
  },
  {
   "cell_type": "code",
   "execution_count": 5,
   "metadata": {
    "collapsed": false
   },
   "outputs": [
    {
     "name": "stdout",
     "output_type": "stream",
     "text": [
      "['3', '2012', '01', 'Suicide', '0', 'M', '60', 'White', '100', 'Other specified', '4']\n",
      "------------------------------------------------------\n",
      "['3', '2012', '01', 'Suicide', '0', 'M', '60', 'White', '100', 'Other specified', '4']\n",
      "['4', '2012', '02', 'Suicide', '0', 'M', '64', 'White', '100', 'Home', '4']\n",
      "['5', '2012', '02', 'Suicide', '0', 'M', '31', 'White', '100', 'Other specified', '2']\n",
      "['6', '2012', '02', 'Suicide', '0', 'M', '17', 'Native American/Native Alaskan', '100', 'Home', '1']\n",
      "['7', '2012', '02', 'Undetermined', '0', 'M', '48', 'White', '100', 'Home', '2']\n"
     ]
    }
   ],
   "source": [
    "#Extracting the headers and displaying them separately.\n",
    "data = data[1:]\n",
    "print(data[0])\n",
    "print(\"------------------------------------------------------\")\n",
    "\n",
    "#Displaying the first 5 rows to verify that the headers have been removed \n",
    "#correctly.\n",
    "for item in data[:5]:\n",
    "    print(item)\n",
    "\n"
   ]
  },
  {
   "cell_type": "code",
   "execution_count": 8,
   "metadata": {
    "collapsed": false
   },
   "outputs": [
    {
     "name": "stdout",
     "output_type": "stream",
     "text": [
      "{'2014': 33599, '2013': 33636, '2012': 33561}\n"
     ]
    }
   ],
   "source": [
    "#Extracting the years of occurence of gun deaths.\n",
    "years = [year[1] for year in data]\n",
    "\n",
    "#To display how many gun deaths occured in each year\n",
    "year_counts = {}\n",
    "for year in years:\n",
    "    if year not in year_counts:\n",
    "        year_counts[year] = 1\n",
    "    else:\n",
    "        year_counts[year] += 1\n",
    "print(year_counts)"
   ]
  },
  {
   "cell_type": "code",
   "execution_count": 16,
   "metadata": {
    "collapsed": false
   },
   "outputs": [
    {
     "name": "stdout",
     "output_type": "stream",
     "text": [
      "2012-01-01 00:00:00\n",
      "2012-02-01 00:00:00\n",
      "2012-02-01 00:00:00\n",
      "2012-02-01 00:00:00\n",
      "2012-02-01 00:00:00\n",
      "{datetime.datetime(2014, 3, 1, 0, 0): 2684, datetime.datetime(2012, 4, 1, 0, 0): 2795, datetime.datetime(2014, 12, 1, 0, 0): 2857, datetime.datetime(2013, 10, 1, 0, 0): 2808, datetime.datetime(2013, 1, 1, 0, 0): 2864, datetime.datetime(2012, 6, 1, 0, 0): 2826, datetime.datetime(2012, 5, 1, 0, 0): 2999, datetime.datetime(2012, 1, 1, 0, 0): 2756, datetime.datetime(2014, 6, 1, 0, 0): 2931, datetime.datetime(2012, 8, 1, 0, 0): 2954, datetime.datetime(2014, 9, 1, 0, 0): 2914, datetime.datetime(2012, 7, 1, 0, 0): 3026, datetime.datetime(2013, 2, 1, 0, 0): 2375, datetime.datetime(2013, 4, 1, 0, 0): 2798, datetime.datetime(2013, 6, 1, 0, 0): 2920, datetime.datetime(2013, 3, 1, 0, 0): 2862, datetime.datetime(2014, 10, 1, 0, 0): 2865, datetime.datetime(2013, 8, 1, 0, 0): 2859, datetime.datetime(2012, 12, 1, 0, 0): 2791, datetime.datetime(2014, 2, 1, 0, 0): 2361, datetime.datetime(2013, 11, 1, 0, 0): 2758, datetime.datetime(2012, 9, 1, 0, 0): 2852, datetime.datetime(2014, 8, 1, 0, 0): 2970, datetime.datetime(2013, 7, 1, 0, 0): 3079, datetime.datetime(2012, 10, 1, 0, 0): 2733, datetime.datetime(2014, 5, 1, 0, 0): 2864, datetime.datetime(2013, 9, 1, 0, 0): 2742, datetime.datetime(2012, 2, 1, 0, 0): 2357, datetime.datetime(2012, 11, 1, 0, 0): 2729, datetime.datetime(2013, 12, 1, 0, 0): 2765, datetime.datetime(2013, 5, 1, 0, 0): 2806, datetime.datetime(2014, 4, 1, 0, 0): 2862, datetime.datetime(2014, 11, 1, 0, 0): 2756, datetime.datetime(2014, 7, 1, 0, 0): 2884, datetime.datetime(2012, 3, 1, 0, 0): 2743, datetime.datetime(2014, 1, 1, 0, 0): 2651}\n"
     ]
    }
   ],
   "source": [
    "#Creating a datetime object for each row, days are not specified in the data so default value assigned will be 1. \n",
    "import datetime\n",
    "dates = []\n",
    "for item in data:\n",
    "    dates.append(datetime.datetime(year = int(item[1]), \n",
    "    month = int(item[2]), day = 1))\n",
    "for date in dates[:5]:\n",
    "    print(date)\n",
    "    \n",
    "#Counting how many deaths occured on each unique date\n",
    "date_counts = {}\n",
    "for date in dates:\n",
    "    if date not in date_counts:\n",
    "        date_counts[date] = 1;\n",
    "    else:\n",
    "        date_counts[date] += 1\n",
    "print(date_counts)"
   ]
  },
  {
   "cell_type": "code",
   "execution_count": 17,
   "metadata": {
    "collapsed": false
   },
   "outputs": [
    {
     "name": "stdout",
     "output_type": "stream",
     "text": [
      "{'F': 14448, 'M': 86348}\n"
     ]
    }
   ],
   "source": [
    "#Counting no of male and female deaths\n",
    "sex_counts = {}\n",
    "for item in data:\n",
    "    if item[5] not in sex_counts:\n",
    "        sex_counts[item[5]] = 1\n",
    "    else:\n",
    "        sex_counts[item[5]] += 1\n",
    "print(sex_counts)"
   ]
  },
  {
   "cell_type": "code",
   "execution_count": 18,
   "metadata": {
    "collapsed": false
   },
   "outputs": [
    {
     "name": "stdout",
     "output_type": "stream",
     "text": [
      "{'Hispanic': 9022, 'Asian/Pacific Islander': 1325, 'Native American/Native Alaskan': 917, 'Black': 23296, 'White': 66236}\n"
     ]
    }
   ],
   "source": [
    "#Displaying the rate of gun deaths varying by race\n",
    "#The data provided consists of 5 races namely 'Hispanic', 'Asian/Pacific Islander', 'NativeAmerican/NativeAlaskan', 'Black', 'White'.\n",
    "race_counts = {}\n",
    "for item in data:\n",
    "    if item[7] not in race_counts:\n",
    "        race_counts[item[7]] = 1\n",
    "    else:\n",
    "        race_counts[item[7]] += 1\n",
    "print(race_counts)"
   ]
  },
  {
   "cell_type": "markdown",
   "metadata": {},
   "source": [
    "Our analysis till now only gives us the total no of gun deaths for each race in the US. In order to meaningfully compare those numbers, we need to have the knowledge of proportion of each race in the US. Luckily, we can import some census data from the file \"census.csv\" to do the required."
   ]
  },
  {
   "cell_type": "code",
   "execution_count": 19,
   "metadata": {
    "collapsed": false
   },
   "outputs": [
    {
     "name": "stdout",
     "output_type": "stream",
     "text": [
      "[['Id', 'Year', 'Id', 'Sex', 'Id', 'Hispanic Origin', 'Id', 'Id2', 'Geography', 'Total', 'Race Alone - White', 'Race Alone - Hispanic', 'Race Alone - Black or African American', 'Race Alone - American Indian and Alaska Native', 'Race Alone - Asian', 'Race Alone - Native Hawaiian and Other Pacific Islander', 'Two or More Races'], ['cen42010', 'April 1, 2010 Census', 'totsex', 'Both Sexes', 'tothisp', 'Total', '0100000US', '', 'United States', '308745538', '197318956', '44618105', '40250635', '3739506', '15159516', '674625', '6984195']]\n"
     ]
    }
   ],
   "source": [
    "#Reading and displaying the file census.csv.\n",
    "f = open(\"census.csv\")\n",
    "reader = csv.reader(f)\n",
    "census_data = list(reader)\n",
    "print(census_data)"
   ]
  },
  {
   "cell_type": "code",
   "execution_count": 23,
   "metadata": {
    "collapsed": false
   },
   "outputs": [
    {
     "name": "stdout",
     "output_type": "stream",
     "text": [
      "{'Asian/Pacific Islander': 17.300315192157537, 'White': 33.567986240511026, 'Hispanic': 20.220491210910907, 'Black': 52.211988832784364, 'Native American/Native Alaskan': 6.049005786200562}\n"
     ]
    }
   ],
   "source": [
    "#Creating a dictionary mapping that maps each key from race_counts to the total population of the race from census.\n",
    "mapping = {}\n",
    "mapping['Asian/Pacific Islander'] = 674625+6984195\n",
    "mapping['Black'] = 44618105\n",
    "mapping['Native American/Native Alaskan'] = 15159516\n",
    "mapping['White'] = 197318956\n",
    "mapping['Hispanic'] = 44618105\n",
    "\n",
    "#Calculating and storing the gun death rate per 100000, for each race.\n",
    "race_per_hundredk = {}\n",
    "for race in race_counts:\n",
    "    if race in mapping:\n",
    "        race_per_hundredk[race] = race_counts[race]/mapping[race]*100000\n",
    "print(race_per_hundredk)"
   ]
  },
  {
   "cell_type": "markdown",
   "metadata": {},
   "source": [
    "Here we can filter our results to get stats about gun realted murder rates per 100000 people for each race. All we need to do is modify the race_counts dictionary to only include rows with intents as 'Homicide' for each racial category."
   ]
  },
  {
   "cell_type": "code",
   "execution_count": 27,
   "metadata": {
    "collapsed": false
   },
   "outputs": [
    {
     "name": "stdout",
     "output_type": "stream",
     "text": [
      "{'Asian/Pacific Islander': 7.298774484842313, 'White': 4.6356417981453335, 'Hispanic': 12.627161104219914, 'Black': 43.7266441503959, 'Native American/Native Alaskan': 2.1504644343526533}\n"
     ]
    }
   ],
   "source": [
    "#Extracting 'intent' and 'race' coloumn data\n",
    "intents = [item[3] for item in data]\n",
    "races = [item[7] for item in data]\n",
    "\n",
    "#Calculating the no gun-related murders for each race\n",
    "homicide_race_counts = {}\n",
    "for i, race in enumerate(races):\n",
    "    if intents[i] == 'Homicide':\n",
    "        if race not in homicide_race_counts:\n",
    "            homicide_race_counts[race] = 1\n",
    "        else:\n",
    "            homicide_race_counts[race] += 1\n",
    "            \n",
    "#Calculating the gun-related murder rate per 100000 people in each racial category\n",
    "homecide_rate_counts_per_hundredk = {}\n",
    "for race in homicide_race_counts:\n",
    "    if race in mapping:\n",
    "        homecide_rate_counts_per_hundredk[race] = homicide_race_counts[race]/mapping[race]*100000\n",
    "print(homecide_rate_counts_per_hundredk)\n",
    "            "
   ]
  },
  {
   "cell_type": "code",
   "execution_count": 32,
   "metadata": {
    "collapsed": false
   },
   "outputs": [
    {
     "ename": "KeyError",
     "evalue": "'M'",
     "output_type": "error",
     "traceback": [
      "\u001b[1;31m\u001b[0m",
      "\u001b[1;31mKeyError\u001b[0mTraceback (most recent call last)",
      "\u001b[1;32m<ipython-input-32-23cf99029226>\u001b[0m in \u001b[0;36m<module>\u001b[1;34m()\u001b[0m\n\u001b[0;32m      6\u001b[0m         \u001b[0mhomicide_per_gender\u001b[0m\u001b[1;33m[\u001b[0m\u001b[0mitem\u001b[0m\u001b[1;33m[\u001b[0m\u001b[1;36m5\u001b[0m\u001b[1;33m]\u001b[0m\u001b[1;33m]\u001b[0m \u001b[1;33m=\u001b[0m \u001b[1;36m1\u001b[0m\u001b[1;33m\u001b[0m\u001b[0m\n\u001b[0;32m      7\u001b[0m     \u001b[1;32melse\u001b[0m\u001b[1;33m:\u001b[0m\u001b[1;33m\u001b[0m\u001b[0m\n\u001b[1;32m----> 8\u001b[1;33m         \u001b[0mhomicide_per_gender\u001b[0m\u001b[1;33m[\u001b[0m\u001b[0mitem\u001b[0m\u001b[1;33m[\u001b[0m\u001b[1;36m5\u001b[0m\u001b[1;33m]\u001b[0m\u001b[1;33m]\u001b[0m \u001b[1;33m=\u001b[0m \u001b[0mhomicide_per_gender\u001b[0m\u001b[1;33m[\u001b[0m\u001b[0mitem\u001b[0m\u001b[1;33m[\u001b[0m\u001b[1;36m5\u001b[0m\u001b[1;33m]\u001b[0m\u001b[1;33m]\u001b[0m \u001b[1;33m+\u001b[0m \u001b[1;36m1\u001b[0m\u001b[1;33m\u001b[0m\u001b[0m\n\u001b[0m\u001b[0;32m      9\u001b[0m \u001b[0mprint\u001b[0m\u001b[1;33m(\u001b[0m\u001b[0mhomicide_per_gender\u001b[0m\u001b[1;33m)\u001b[0m\u001b[1;33m\u001b[0m\u001b[0m\n\u001b[0;32m     10\u001b[0m \u001b[1;33m\u001b[0m\u001b[0m\n",
      "\u001b[1;31mKeyError\u001b[0m: 'M'"
     ]
    }
   ],
   "source": [
    "#Exploring the homicide rate by gender\n",
    "homicide_per_gender = {}\n",
    "\n",
    "for item in data:\n",
    "    if item[3] == 'Homicide' and item[5] not in homicide_per_gender:\n",
    "        homicide_per_gender[item[5]] = 1\n",
    "    else:\n",
    "        homicide_per_gender[item[5]] = homicide_per_gender[item[5]] + 1\n",
    "print(homicide_per_gender)\n",
    "        \n",
    "    "
   ]
  },
  {
   "cell_type": "code",
   "execution_count": null,
   "metadata": {
    "collapsed": true
   },
   "outputs": [],
   "source": []
  }
 ],
 "metadata": {
  "kernelspec": {
   "display_name": "Python 3",
   "language": "python",
   "name": "python3"
  },
  "language_info": {
   "codemirror_mode": {
    "name": "ipython",
    "version": 3
   },
   "file_extension": ".py",
   "mimetype": "text/x-python",
   "name": "python",
   "nbconvert_exporter": "python",
   "pygments_lexer": "ipython3",
   "version": "3.4.3"
  }
 },
 "nbformat": 4,
 "nbformat_minor": 0
}
